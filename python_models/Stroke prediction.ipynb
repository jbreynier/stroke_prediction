{
 "cells": [
  {
   "cell_type": "code",
   "execution_count": 1,
   "metadata": {},
   "outputs": [],
   "source": [
    "import pandas as pd\n",
    "import numpy as np\n",
    "from scipy import stats\n",
    "import collections\n",
    "import math\n",
    "from sklearn.model_selection import train_test_split\n",
    "from sklearn.impute import SimpleImputer, KNNImputer\n",
    "from sklearn import preprocessing\n",
    "from sklearn.metrics import accuracy_score, confusion_matrix, classification_report\n",
    "from sklearn.linear_model import LogisticRegression\n",
    "from sklearn.ensemble import RandomForestClassifier\n",
    "\n",
    "import collections\n",
    "import imblearn.under_sampling\n",
    "from collections import Counter\n",
    "from imblearn.under_sampling import RandomUnderSampler\n",
    "from imblearn.over_sampling import RandomOverSampler\n",
    "\n",
    "from sklearn.pipeline import make_pipeline\n",
    "from sklearn.preprocessing import StandardScaler\n",
    "from sklearn.svm import SVC\n",
    "\n",
    "from keras.models import Sequential\n",
    "from keras.layers import Activation, Dense, Conv1D\n",
    "from keras import losses\n",
    "from tensorflow.keras import optimizers\n",
    "import tensorflow as tf\n",
    "\n",
    "import matplotlib.pyplot as plt\n"
   ]
  },
  {
   "cell_type": "code",
   "execution_count": 2,
   "metadata": {},
   "outputs": [
    {
     "data": {
      "text/html": [
       "<div>\n",
       "<style scoped>\n",
       "    .dataframe tbody tr th:only-of-type {\n",
       "        vertical-align: middle;\n",
       "    }\n",
       "\n",
       "    .dataframe tbody tr th {\n",
       "        vertical-align: top;\n",
       "    }\n",
       "\n",
       "    .dataframe thead th {\n",
       "        text-align: right;\n",
       "    }\n",
       "</style>\n",
       "<table border=\"1\" class=\"dataframe\">\n",
       "  <thead>\n",
       "    <tr style=\"text-align: right;\">\n",
       "      <th></th>\n",
       "      <th>id</th>\n",
       "      <th>gender</th>\n",
       "      <th>age</th>\n",
       "      <th>hypertension</th>\n",
       "      <th>heart_disease</th>\n",
       "      <th>ever_married</th>\n",
       "      <th>work_type</th>\n",
       "      <th>Residence_type</th>\n",
       "      <th>avg_glucose_level</th>\n",
       "      <th>bmi</th>\n",
       "      <th>smoking_status</th>\n",
       "      <th>stroke</th>\n",
       "    </tr>\n",
       "  </thead>\n",
       "  <tbody>\n",
       "    <tr>\n",
       "      <th>0</th>\n",
       "      <td>30669</td>\n",
       "      <td>Male</td>\n",
       "      <td>3.0</td>\n",
       "      <td>0</td>\n",
       "      <td>0</td>\n",
       "      <td>No</td>\n",
       "      <td>children</td>\n",
       "      <td>Rural</td>\n",
       "      <td>95.12</td>\n",
       "      <td>18.0</td>\n",
       "      <td>never smoked</td>\n",
       "      <td>0</td>\n",
       "    </tr>\n",
       "    <tr>\n",
       "      <th>1</th>\n",
       "      <td>30468</td>\n",
       "      <td>Male</td>\n",
       "      <td>58.0</td>\n",
       "      <td>1</td>\n",
       "      <td>0</td>\n",
       "      <td>Yes</td>\n",
       "      <td>Private</td>\n",
       "      <td>Urban</td>\n",
       "      <td>87.96</td>\n",
       "      <td>39.2</td>\n",
       "      <td>never smoked</td>\n",
       "      <td>0</td>\n",
       "    </tr>\n",
       "    <tr>\n",
       "      <th>2</th>\n",
       "      <td>16523</td>\n",
       "      <td>Female</td>\n",
       "      <td>8.0</td>\n",
       "      <td>0</td>\n",
       "      <td>0</td>\n",
       "      <td>No</td>\n",
       "      <td>Private</td>\n",
       "      <td>Urban</td>\n",
       "      <td>110.89</td>\n",
       "      <td>17.6</td>\n",
       "      <td>never smoked</td>\n",
       "      <td>0</td>\n",
       "    </tr>\n",
       "    <tr>\n",
       "      <th>3</th>\n",
       "      <td>56543</td>\n",
       "      <td>Female</td>\n",
       "      <td>70.0</td>\n",
       "      <td>0</td>\n",
       "      <td>0</td>\n",
       "      <td>Yes</td>\n",
       "      <td>Private</td>\n",
       "      <td>Rural</td>\n",
       "      <td>69.04</td>\n",
       "      <td>35.9</td>\n",
       "      <td>formerly smoked</td>\n",
       "      <td>0</td>\n",
       "    </tr>\n",
       "    <tr>\n",
       "      <th>4</th>\n",
       "      <td>46136</td>\n",
       "      <td>Male</td>\n",
       "      <td>14.0</td>\n",
       "      <td>0</td>\n",
       "      <td>0</td>\n",
       "      <td>No</td>\n",
       "      <td>children</td>\n",
       "      <td>Rural</td>\n",
       "      <td>161.28</td>\n",
       "      <td>19.1</td>\n",
       "      <td>never smoked</td>\n",
       "      <td>0</td>\n",
       "    </tr>\n",
       "  </tbody>\n",
       "</table>\n",
       "</div>"
      ],
      "text/plain": [
       "      id  gender   age  hypertension  heart_disease ever_married work_type  \\\n",
       "0  30669    Male   3.0             0              0           No  children   \n",
       "1  30468    Male  58.0             1              0          Yes   Private   \n",
       "2  16523  Female   8.0             0              0           No   Private   \n",
       "3  56543  Female  70.0             0              0          Yes   Private   \n",
       "4  46136    Male  14.0             0              0           No  children   \n",
       "\n",
       "  Residence_type  avg_glucose_level   bmi   smoking_status  stroke  \n",
       "0          Rural              95.12  18.0     never smoked       0  \n",
       "1          Urban              87.96  39.2     never smoked       0  \n",
       "2          Urban             110.89  17.6     never smoked       0  \n",
       "3          Rural              69.04  35.9  formerly smoked       0  \n",
       "4          Rural             161.28  19.1     never smoked       0  "
      ]
     },
     "execution_count": 2,
     "metadata": {},
     "output_type": "execute_result"
    }
   ],
   "source": [
    "df = pd.read_csv('stroke_data_cleanedJB.csv')\n",
    "df.head()"
   ]
  },
  {
   "cell_type": "code",
   "execution_count": 3,
   "metadata": {},
   "outputs": [
    {
     "data": {
      "text/plain": [
       "(43389, 12)"
      ]
     },
     "execution_count": 3,
     "metadata": {},
     "output_type": "execute_result"
    }
   ],
   "source": [
    "df.shape"
   ]
  },
  {
   "cell_type": "markdown",
   "metadata": {},
   "source": [
    "# Preprocessing"
   ]
  },
  {
   "cell_type": "code",
   "execution_count": 4,
   "metadata": {},
   "outputs": [
    {
     "data": {
      "text/html": [
       "<div>\n",
       "<style scoped>\n",
       "    .dataframe tbody tr th:only-of-type {\n",
       "        vertical-align: middle;\n",
       "    }\n",
       "\n",
       "    .dataframe tbody tr th {\n",
       "        vertical-align: top;\n",
       "    }\n",
       "\n",
       "    .dataframe thead th {\n",
       "        text-align: right;\n",
       "    }\n",
       "</style>\n",
       "<table border=\"1\" class=\"dataframe\">\n",
       "  <thead>\n",
       "    <tr style=\"text-align: right;\">\n",
       "      <th></th>\n",
       "      <th>0</th>\n",
       "      <th>1</th>\n",
       "      <th>2</th>\n",
       "      <th>3</th>\n",
       "      <th>4</th>\n",
       "      <th>5</th>\n",
       "      <th>6</th>\n",
       "      <th>7</th>\n",
       "      <th>8</th>\n",
       "      <th>9</th>\n",
       "      <th>10</th>\n",
       "      <th>11</th>\n",
       "    </tr>\n",
       "  </thead>\n",
       "  <tbody>\n",
       "    <tr>\n",
       "      <th>0</th>\n",
       "      <td>30468.0</td>\n",
       "      <td>0.0</td>\n",
       "      <td>58.0</td>\n",
       "      <td>1.0</td>\n",
       "      <td>0.0</td>\n",
       "      <td>0.0</td>\n",
       "      <td>0.0</td>\n",
       "      <td>0.0</td>\n",
       "      <td>87.96</td>\n",
       "      <td>39.2</td>\n",
       "      <td>2.0</td>\n",
       "      <td>0.0</td>\n",
       "    </tr>\n",
       "    <tr>\n",
       "      <th>1</th>\n",
       "      <td>16523.0</td>\n",
       "      <td>1.0</td>\n",
       "      <td>8.0</td>\n",
       "      <td>0.0</td>\n",
       "      <td>0.0</td>\n",
       "      <td>1.0</td>\n",
       "      <td>0.0</td>\n",
       "      <td>0.0</td>\n",
       "      <td>110.89</td>\n",
       "      <td>17.6</td>\n",
       "      <td>2.0</td>\n",
       "      <td>0.0</td>\n",
       "    </tr>\n",
       "    <tr>\n",
       "      <th>2</th>\n",
       "      <td>56543.0</td>\n",
       "      <td>1.0</td>\n",
       "      <td>70.0</td>\n",
       "      <td>0.0</td>\n",
       "      <td>0.0</td>\n",
       "      <td>0.0</td>\n",
       "      <td>0.0</td>\n",
       "      <td>1.0</td>\n",
       "      <td>69.04</td>\n",
       "      <td>35.9</td>\n",
       "      <td>0.0</td>\n",
       "      <td>0.0</td>\n",
       "    </tr>\n",
       "    <tr>\n",
       "      <th>3</th>\n",
       "      <td>46136.0</td>\n",
       "      <td>0.0</td>\n",
       "      <td>14.0</td>\n",
       "      <td>0.0</td>\n",
       "      <td>0.0</td>\n",
       "      <td>1.0</td>\n",
       "      <td>0.0</td>\n",
       "      <td>1.0</td>\n",
       "      <td>161.28</td>\n",
       "      <td>19.1</td>\n",
       "      <td>2.0</td>\n",
       "      <td>0.0</td>\n",
       "    </tr>\n",
       "    <tr>\n",
       "      <th>4</th>\n",
       "      <td>32257.0</td>\n",
       "      <td>1.0</td>\n",
       "      <td>47.0</td>\n",
       "      <td>0.0</td>\n",
       "      <td>0.0</td>\n",
       "      <td>0.0</td>\n",
       "      <td>0.0</td>\n",
       "      <td>0.0</td>\n",
       "      <td>210.95</td>\n",
       "      <td>50.1</td>\n",
       "      <td>1.0</td>\n",
       "      <td>0.0</td>\n",
       "    </tr>\n",
       "  </tbody>\n",
       "</table>\n",
       "</div>"
      ],
      "text/plain": [
       "        0    1     2    3    4    5    6    7       8     9    10   11\n",
       "0  30468.0  0.0  58.0  1.0  0.0  0.0  0.0  0.0   87.96  39.2  2.0  0.0\n",
       "1  16523.0  1.0   8.0  0.0  0.0  1.0  0.0  0.0  110.89  17.6  2.0  0.0\n",
       "2  56543.0  1.0  70.0  0.0  0.0  0.0  0.0  1.0   69.04  35.9  0.0  0.0\n",
       "3  46136.0  0.0  14.0  0.0  0.0  1.0  0.0  1.0  161.28  19.1  2.0  0.0\n",
       "4  32257.0  1.0  47.0  0.0  0.0  0.0  0.0  0.0  210.95  50.1  1.0  0.0"
      ]
     },
     "execution_count": 4,
     "metadata": {},
     "output_type": "execute_result"
    }
   ],
   "source": [
    "df['smoking_status'] = df['smoking_status'].astype(str)\n",
    "\n",
    "df['gender']=pd.get_dummies(df['gender'])\n",
    "df['ever_married']=pd.get_dummies(df['ever_married'])\n",
    "df['work_type']=pd.get_dummies(df['work_type'])\n",
    "df['Residence_type']=pd.get_dummies(df['Residence_type'])\n",
    "\n",
    "\n",
    "le = preprocessing.LabelEncoder()\n",
    "\n",
    "df['smoking_status']=le.fit_transform(df['smoking_status'])\n",
    "\n",
    "\n",
    "df = df.iloc[1:]\n",
    "\n",
    "imp = KNNImputer(n_neighbors=2)\n",
    "df = imp.fit_transform(df)\n",
    "\n",
    "\n",
    "\n",
    "df = pd.DataFrame(df)\n",
    "\n",
    "df.head()"
   ]
  },
  {
   "cell_type": "code",
   "execution_count": 5,
   "metadata": {},
   "outputs": [
    {
     "data": {
      "text/plain": [
       "(43388, 10)"
      ]
     },
     "execution_count": 5,
     "metadata": {},
     "output_type": "execute_result"
    }
   ],
   "source": [
    "X = df.iloc[:, 1:11]\n",
    "y = df.iloc[:,-1]\n",
    "X.shape"
   ]
  },
  {
   "cell_type": "code",
   "execution_count": 6,
   "metadata": {},
   "outputs": [
    {
     "data": {
      "text/html": [
       "<div>\n",
       "<style scoped>\n",
       "    .dataframe tbody tr th:only-of-type {\n",
       "        vertical-align: middle;\n",
       "    }\n",
       "\n",
       "    .dataframe tbody tr th {\n",
       "        vertical-align: top;\n",
       "    }\n",
       "\n",
       "    .dataframe thead th {\n",
       "        text-align: right;\n",
       "    }\n",
       "</style>\n",
       "<table border=\"1\" class=\"dataframe\">\n",
       "  <thead>\n",
       "    <tr style=\"text-align: right;\">\n",
       "      <th></th>\n",
       "      <th>1</th>\n",
       "      <th>2</th>\n",
       "      <th>3</th>\n",
       "      <th>4</th>\n",
       "      <th>5</th>\n",
       "      <th>6</th>\n",
       "      <th>7</th>\n",
       "      <th>8</th>\n",
       "      <th>9</th>\n",
       "      <th>10</th>\n",
       "    </tr>\n",
       "  </thead>\n",
       "  <tbody>\n",
       "    <tr>\n",
       "      <th>0</th>\n",
       "      <td>0.0</td>\n",
       "      <td>58.0</td>\n",
       "      <td>1.0</td>\n",
       "      <td>0.0</td>\n",
       "      <td>0.0</td>\n",
       "      <td>0.0</td>\n",
       "      <td>0.0</td>\n",
       "      <td>87.96</td>\n",
       "      <td>39.2</td>\n",
       "      <td>2.0</td>\n",
       "    </tr>\n",
       "    <tr>\n",
       "      <th>1</th>\n",
       "      <td>1.0</td>\n",
       "      <td>8.0</td>\n",
       "      <td>0.0</td>\n",
       "      <td>0.0</td>\n",
       "      <td>1.0</td>\n",
       "      <td>0.0</td>\n",
       "      <td>0.0</td>\n",
       "      <td>110.89</td>\n",
       "      <td>17.6</td>\n",
       "      <td>2.0</td>\n",
       "    </tr>\n",
       "    <tr>\n",
       "      <th>2</th>\n",
       "      <td>1.0</td>\n",
       "      <td>70.0</td>\n",
       "      <td>0.0</td>\n",
       "      <td>0.0</td>\n",
       "      <td>0.0</td>\n",
       "      <td>0.0</td>\n",
       "      <td>1.0</td>\n",
       "      <td>69.04</td>\n",
       "      <td>35.9</td>\n",
       "      <td>0.0</td>\n",
       "    </tr>\n",
       "    <tr>\n",
       "      <th>3</th>\n",
       "      <td>0.0</td>\n",
       "      <td>14.0</td>\n",
       "      <td>0.0</td>\n",
       "      <td>0.0</td>\n",
       "      <td>1.0</td>\n",
       "      <td>0.0</td>\n",
       "      <td>1.0</td>\n",
       "      <td>161.28</td>\n",
       "      <td>19.1</td>\n",
       "      <td>2.0</td>\n",
       "    </tr>\n",
       "    <tr>\n",
       "      <th>4</th>\n",
       "      <td>1.0</td>\n",
       "      <td>47.0</td>\n",
       "      <td>0.0</td>\n",
       "      <td>0.0</td>\n",
       "      <td>0.0</td>\n",
       "      <td>0.0</td>\n",
       "      <td>0.0</td>\n",
       "      <td>210.95</td>\n",
       "      <td>50.1</td>\n",
       "      <td>1.0</td>\n",
       "    </tr>\n",
       "  </tbody>\n",
       "</table>\n",
       "</div>"
      ],
      "text/plain": [
       "    1     2    3    4    5    6    7       8     9    10\n",
       "0  0.0  58.0  1.0  0.0  0.0  0.0  0.0   87.96  39.2  2.0\n",
       "1  1.0   8.0  0.0  0.0  1.0  0.0  0.0  110.89  17.6  2.0\n",
       "2  1.0  70.0  0.0  0.0  0.0  0.0  1.0   69.04  35.9  0.0\n",
       "3  0.0  14.0  0.0  0.0  1.0  0.0  1.0  161.28  19.1  2.0\n",
       "4  1.0  47.0  0.0  0.0  0.0  0.0  0.0  210.95  50.1  1.0"
      ]
     },
     "execution_count": 6,
     "metadata": {},
     "output_type": "execute_result"
    }
   ],
   "source": [
    "X.head()"
   ]
  },
  {
   "cell_type": "code",
   "execution_count": 7,
   "metadata": {},
   "outputs": [],
   "source": [
    "rus = RandomUnderSampler(random_state=42)\n",
    "X_res, y_res = rus.fit_resample(X, y)"
   ]
  },
  {
   "cell_type": "code",
   "execution_count": 8,
   "metadata": {},
   "outputs": [],
   "source": [
    "X_train, X_test, y_train, y_test = train_test_split(X_res, y_res, test_size=0.2, random_state=42)"
   ]
  },
  {
   "cell_type": "code",
   "execution_count": 9,
   "metadata": {},
   "outputs": [
    {
     "data": {
      "text/plain": [
       "(1252,)"
      ]
     },
     "execution_count": 9,
     "metadata": {},
     "output_type": "execute_result"
    }
   ],
   "source": [
    "y_train.shape"
   ]
  },
  {
   "cell_type": "code",
   "execution_count": 10,
   "metadata": {},
   "outputs": [
    {
     "name": "stdout",
     "output_type": "stream",
     "text": [
      "Ratio of class 1 over the number of class is 0.49440894568690097\n"
     ]
    }
   ],
   "source": [
    "print('Ratio of class 1 over the number of class is',y_train.sum()/y_train.shape[0])"
   ]
  },
  {
   "cell_type": "markdown",
   "metadata": {},
   "source": [
    "# Logistic regression"
   ]
  },
  {
   "cell_type": "code",
   "execution_count": 11,
   "metadata": {},
   "outputs": [
    {
     "name": "stderr",
     "output_type": "stream",
     "text": [
      "/Users/mickaelelhaik/opt/anaconda3/lib/python3.8/site-packages/sklearn/linear_model/_logistic.py:762: ConvergenceWarning: lbfgs failed to converge (status=1):\n",
      "STOP: TOTAL NO. of ITERATIONS REACHED LIMIT.\n",
      "\n",
      "Increase the number of iterations (max_iter) or scale the data as shown in:\n",
      "    https://scikit-learn.org/stable/modules/preprocessing.html\n",
      "Please also refer to the documentation for alternative solver options:\n",
      "    https://scikit-learn.org/stable/modules/linear_model.html#logistic-regression\n",
      "  n_iter_i = _check_optimize_result(\n"
     ]
    }
   ],
   "source": [
    "clf = LogisticRegression(random_state=0).fit(X_train, y_train)\n",
    "y_pred = clf.predict(X_test)"
   ]
  },
  {
   "cell_type": "code",
   "execution_count": 12,
   "metadata": {},
   "outputs": [
    {
     "name": "stdout",
     "output_type": "stream",
     "text": [
      "[[120  30]\n",
      " [ 35 129]]\n"
     ]
    }
   ],
   "source": [
    "print(confusion_matrix(y_test, y_pred))"
   ]
  },
  {
   "cell_type": "code",
   "execution_count": 13,
   "metadata": {},
   "outputs": [
    {
     "name": "stdout",
     "output_type": "stream",
     "text": [
      "              precision    recall  f1-score   support\n",
      "\n",
      "         0.0       0.77      0.80      0.79       150\n",
      "         1.0       0.81      0.79      0.80       164\n",
      "\n",
      "    accuracy                           0.79       314\n",
      "   macro avg       0.79      0.79      0.79       314\n",
      "weighted avg       0.79      0.79      0.79       314\n",
      "\n"
     ]
    }
   ],
   "source": [
    "print(classification_report(y_test, y_pred))"
   ]
  },
  {
   "cell_type": "code",
   "execution_count": 14,
   "metadata": {},
   "outputs": [
    {
     "name": "stdout",
     "output_type": "stream",
     "text": [
      "[[6285 2222]\n",
      " [  32  139]]\n",
      "              precision    recall  f1-score   support\n",
      "\n",
      "         0.0       0.99      0.74      0.85      8507\n",
      "         1.0       0.06      0.81      0.11       171\n",
      "\n",
      "    accuracy                           0.74      8678\n",
      "   macro avg       0.53      0.78      0.48      8678\n",
      "weighted avg       0.98      0.74      0.83      8678\n",
      "\n"
     ]
    }
   ],
   "source": [
    "X_train, X_test, y_train, y_test = train_test_split(X, y, test_size=0.2, random_state=42)\n",
    "y_pred = clf.predict(X_test)\n",
    "print(confusion_matrix(y_test, y_pred))\n",
    "print(classification_report(y_test, y_pred))"
   ]
  },
  {
   "cell_type": "code",
   "execution_count": 15,
   "metadata": {},
   "outputs": [],
   "source": [
    "clf = make_pipeline(StandardScaler(), SVC(gamma='auto'))\n",
    "clf.fit(X_train, y_train)\n",
    "y_pred = clf.predict(X_test)"
   ]
  },
  {
   "cell_type": "code",
   "execution_count": 25,
   "metadata": {},
   "outputs": [
    {
     "name": "stdout",
     "output_type": "stream",
     "text": [
      "[[8527    0]\n",
      " [ 153    0]]\n"
     ]
    }
   ],
   "source": [
    "print(confusion_matrix(y_test, y_pred))"
   ]
  },
  {
   "cell_type": "code",
   "execution_count": 26,
   "metadata": {},
   "outputs": [
    {
     "name": "stdout",
     "output_type": "stream",
     "text": [
      "              precision    recall  f1-score   support\n",
      "\n",
      "         0.0       0.98      1.00      0.99      8527\n",
      "         1.0       0.00      0.00      0.00       153\n",
      "\n",
      "    accuracy                           0.98      8680\n",
      "   macro avg       0.49      0.50      0.50      8680\n",
      "weighted avg       0.97      0.98      0.97      8680\n",
      "\n"
     ]
    },
    {
     "name": "stderr",
     "output_type": "stream",
     "text": [
      "/Users/mickaelelhaik/opt/anaconda3/lib/python3.8/site-packages/sklearn/metrics/_classification.py:1221: UndefinedMetricWarning: Precision and F-score are ill-defined and being set to 0.0 in labels with no predicted samples. Use `zero_division` parameter to control this behavior.\n",
      "  _warn_prf(average, modifier, msg_start, len(result))\n"
     ]
    }
   ],
   "source": [
    "print(classification_report(y_test, y_pred))"
   ]
  },
  {
   "cell_type": "code",
   "execution_count": 27,
   "metadata": {},
   "outputs": [
    {
     "name": "stdout",
     "output_type": "stream",
     "text": [
      "[[8527    0]\n",
      " [ 153    0]]\n"
     ]
    }
   ],
   "source": [
    "X = df.iloc[:, 0:10]\n",
    "y = df.iloc[:,-1]\n",
    "X.shape\n",
    "\n",
    "X_train, X_test, y_train, y_test = train_test_split(X, y, test_size=0.2, random_state=42)\n",
    "\n",
    "y_pred = clf.predict(X_test)\n",
    "print(confusion_matrix(y_test, y_pred))"
   ]
  },
  {
   "cell_type": "code",
   "execution_count": 28,
   "metadata": {},
   "outputs": [
    {
     "name": "stdout",
     "output_type": "stream",
     "text": [
      "              precision    recall  f1-score   support\n",
      "\n",
      "         0.0       0.98      1.00      0.99      8527\n",
      "         1.0       0.00      0.00      0.00       153\n",
      "\n",
      "    accuracy                           0.98      8680\n",
      "   macro avg       0.49      0.50      0.50      8680\n",
      "weighted avg       0.97      0.98      0.97      8680\n",
      "\n"
     ]
    },
    {
     "name": "stderr",
     "output_type": "stream",
     "text": [
      "/Users/mickaelelhaik/opt/anaconda3/lib/python3.8/site-packages/sklearn/metrics/_classification.py:1221: UndefinedMetricWarning: Precision and F-score are ill-defined and being set to 0.0 in labels with no predicted samples. Use `zero_division` parameter to control this behavior.\n",
      "  _warn_prf(average, modifier, msg_start, len(result))\n"
     ]
    }
   ],
   "source": [
    "print(classification_report(y_test, y_pred))"
   ]
  },
  {
   "cell_type": "markdown",
   "metadata": {},
   "source": [
    "### Oversampling"
   ]
  },
  {
   "cell_type": "code",
   "execution_count": 57,
   "metadata": {},
   "outputs": [],
   "source": [
    "rus = RandomOverSampler(random_state=42)\n",
    "X_res, y_res = rus.fit_resample(X, y)"
   ]
  },
  {
   "cell_type": "code",
   "execution_count": 58,
   "metadata": {},
   "outputs": [
    {
     "data": {
      "text/plain": [
       "(68185,)"
      ]
     },
     "execution_count": 58,
     "metadata": {},
     "output_type": "execute_result"
    }
   ],
   "source": [
    "X_train, X_test, y_train, y_test = train_test_split(X_res, y_res, test_size=0.2, random_state=42)\n",
    "y_train.shape"
   ]
  },
  {
   "cell_type": "code",
   "execution_count": 37,
   "metadata": {},
   "outputs": [
    {
     "name": "stdout",
     "output_type": "stream",
     "text": [
      "Ratio of class 1 over the number of class is 0.500095328884652\n"
     ]
    }
   ],
   "source": [
    "print('Ratio of class 1 over the number of class is',y_train.sum()/y_train.shape[0])"
   ]
  },
  {
   "cell_type": "code",
   "execution_count": 59,
   "metadata": {},
   "outputs": [
    {
     "name": "stderr",
     "output_type": "stream",
     "text": [
      "/Users/mickaelelhaik/opt/anaconda3/lib/python3.8/site-packages/sklearn/linear_model/_logistic.py:762: ConvergenceWarning: lbfgs failed to converge (status=1):\n",
      "STOP: TOTAL NO. of ITERATIONS REACHED LIMIT.\n",
      "\n",
      "Increase the number of iterations (max_iter) or scale the data as shown in:\n",
      "    https://scikit-learn.org/stable/modules/preprocessing.html\n",
      "Please also refer to the documentation for alternative solver options:\n",
      "    https://scikit-learn.org/stable/modules/linear_model.html#logistic-regression\n",
      "  n_iter_i = _check_optimize_result(\n"
     ]
    }
   ],
   "source": [
    "clf = LogisticRegression(random_state=0).fit(X_train, y_train)\n",
    "y_pred = clf.predict(X_test)"
   ]
  },
  {
   "cell_type": "code",
   "execution_count": 60,
   "metadata": {},
   "outputs": [
    {
     "name": "stdout",
     "output_type": "stream",
     "text": [
      "[[6313 2217]\n",
      " [1583 6934]]\n",
      "              precision    recall  f1-score   support\n",
      "\n",
      "         0.0       0.80      0.74      0.77      8530\n",
      "         1.0       0.76      0.81      0.78      8517\n",
      "\n",
      "    accuracy                           0.78     17047\n",
      "   macro avg       0.78      0.78      0.78     17047\n",
      "weighted avg       0.78      0.78      0.78     17047\n",
      "\n"
     ]
    }
   ],
   "source": [
    "print(confusion_matrix(y_test, y_pred))\n",
    "print(classification_report(y_test, y_pred))"
   ]
  },
  {
   "cell_type": "code",
   "execution_count": 61,
   "metadata": {},
   "outputs": [
    {
     "name": "stdout",
     "output_type": "stream",
     "text": [
      "[[6273 2254]\n",
      " [  26  127]]\n",
      "              precision    recall  f1-score   support\n",
      "\n",
      "         0.0       1.00      0.74      0.85      8527\n",
      "         1.0       0.05      0.83      0.10       153\n",
      "\n",
      "    accuracy                           0.74      8680\n",
      "   macro avg       0.52      0.78      0.47      8680\n",
      "weighted avg       0.98      0.74      0.83      8680\n",
      "\n"
     ]
    }
   ],
   "source": [
    "X = df.iloc[:, 1:11]\n",
    "y = df.iloc[:,-1]\n",
    "X.shape\n",
    "\n",
    "X_train, X_test, y_train, y_test = train_test_split(X, y, test_size=0.2, random_state=42)\n",
    "\n",
    "y_pred = clf.predict(X_test)\n",
    "print(confusion_matrix(y_test, y_pred))\n",
    "print(classification_report(y_test, y_pred))"
   ]
  },
  {
   "cell_type": "code",
   "execution_count": 48,
   "metadata": {},
   "outputs": [
    {
     "name": "stdout",
     "output_type": "stream",
     "text": [
      "Model: \"sequential_2\"\n",
      "_________________________________________________________________\n",
      "Layer (type)                 Output Shape              Param #   \n",
      "=================================================================\n",
      "dense_6 (Dense)              (None, 10)                110       \n",
      "_________________________________________________________________\n",
      "dense_7 (Dense)              (None, 6)                 66        \n",
      "_________________________________________________________________\n",
      "dense_8 (Dense)              (None, 1)                 7         \n",
      "=================================================================\n",
      "Total params: 183\n",
      "Trainable params: 183\n",
      "Non-trainable params: 0\n",
      "_________________________________________________________________\n"
     ]
    }
   ],
   "source": [
    "model = Sequential()\n",
    "model.add(Dense(10, input_dim=10, activation=\"relu\"))\n",
    "model.add(Dense(6, input_dim=10, activation=\"relu\"))\n",
    "model.add(Dense(1, activation=\"sigmoid\"))\n",
    "\n",
    "model.summary()"
   ]
  },
  {
   "cell_type": "code",
   "execution_count": 49,
   "metadata": {},
   "outputs": [],
   "source": [
    "model.compile(optimizer='adam', loss='binary_crossentropy', metrics=['accuracy'])"
   ]
  },
  {
   "cell_type": "code",
   "execution_count": 50,
   "metadata": {},
   "outputs": [
    {
     "name": "stdout",
     "output_type": "stream",
     "text": [
      "Epoch 1/50\n",
      "2273/2273 [==============================] - 2s 644us/step - loss: 64.3654 - accuracy: 0.5404\n",
      "Epoch 2/50\n",
      "2273/2273 [==============================] - 1s 609us/step - loss: 3.0378 - accuracy: 0.6203\n",
      "Epoch 3/50\n",
      "2273/2273 [==============================] - 1s 613us/step - loss: 2.3022 - accuracy: 0.6518\n",
      "Epoch 4/50\n",
      "2273/2273 [==============================] - 1s 611us/step - loss: 2.6213 - accuracy: 0.6560\n",
      "Epoch 5/50\n",
      "2273/2273 [==============================] - 1s 617us/step - loss: 2.6697 - accuracy: 0.6571\n",
      "Epoch 6/50\n",
      "2273/2273 [==============================] - 1s 623us/step - loss: 2.0149 - accuracy: 0.6788\n",
      "Epoch 7/50\n",
      "2273/2273 [==============================] - 1s 622us/step - loss: 2.2456 - accuracy: 0.6699\n",
      "Epoch 8/50\n",
      "2273/2273 [==============================] - 1s 617us/step - loss: 2.2924 - accuracy: 0.6769\n",
      "Epoch 9/50\n",
      "2273/2273 [==============================] - 1s 616us/step - loss: 2.1101 - accuracy: 0.6767\n",
      "Epoch 10/50\n",
      "2273/2273 [==============================] - 1s 617us/step - loss: 2.1749 - accuracy: 0.6754\n",
      "Epoch 11/50\n",
      "2273/2273 [==============================] - 1s 614us/step - loss: 2.1826 - accuracy: 0.6744\n",
      "Epoch 12/50\n",
      "2273/2273 [==============================] - 1s 616us/step - loss: 2.4599 - accuracy: 0.6709\n",
      "Epoch 13/50\n",
      "2273/2273 [==============================] - 1s 618us/step - loss: 2.1118 - accuracy: 0.6819\n",
      "Epoch 14/50\n",
      "2273/2273 [==============================] - 1s 615us/step - loss: 1.6446 - accuracy: 0.6887\n",
      "Epoch 15/50\n",
      "2273/2273 [==============================] - 1s 621us/step - loss: 2.0279 - accuracy: 0.6802\n",
      "Epoch 16/50\n",
      "2273/2273 [==============================] - 1s 620us/step - loss: 1.6763 - accuracy: 0.6877\n",
      "Epoch 17/50\n",
      "2273/2273 [==============================] - 1s 624us/step - loss: 1.9563 - accuracy: 0.6786\n",
      "Epoch 18/50\n",
      "2273/2273 [==============================] - 1s 628us/step - loss: 1.9734 - accuracy: 0.6791\n",
      "Epoch 19/50\n",
      "2273/2273 [==============================] - 1s 647us/step - loss: 1.8485 - accuracy: 0.6815\n",
      "Epoch 20/50\n",
      "2273/2273 [==============================] - 1s 642us/step - loss: 1.6925 - accuracy: 0.6839\n",
      "Epoch 21/50\n",
      "2273/2273 [==============================] - 2s 666us/step - loss: 1.6922 - accuracy: 0.6807\n",
      "Epoch 22/50\n",
      "2273/2273 [==============================] - 1s 654us/step - loss: 1.5032 - accuracy: 0.6866\n",
      "Epoch 23/50\n",
      "2273/2273 [==============================] - 1s 622us/step - loss: 1.6332 - accuracy: 0.6811\n",
      "Epoch 24/50\n",
      "2273/2273 [==============================] - 1s 635us/step - loss: 1.4860 - accuracy: 0.6902\n",
      "Epoch 25/50\n",
      "2273/2273 [==============================] - 1s 624us/step - loss: 1.3868 - accuracy: 0.6955\n",
      "Epoch 26/50\n",
      "2273/2273 [==============================] - 1s 657us/step - loss: 1.4993 - accuracy: 0.6875\n",
      "Epoch 27/50\n",
      "2273/2273 [==============================] - 1s 626us/step - loss: 1.4579 - accuracy: 0.6921\n",
      "Epoch 28/50\n",
      "2273/2273 [==============================] - 1s 626us/step - loss: 1.4920 - accuracy: 0.6901\n",
      "Epoch 29/50\n",
      "2273/2273 [==============================] - 1s 628us/step - loss: 1.4069 - accuracy: 0.6941\n",
      "Epoch 30/50\n",
      "2273/2273 [==============================] - 2s 667us/step - loss: 1.4453 - accuracy: 0.6956\n",
      "Epoch 31/50\n",
      "2273/2273 [==============================] - 2s 670us/step - loss: 1.3865 - accuracy: 0.6943\n",
      "Epoch 32/50\n",
      "2273/2273 [==============================] - 2s 667us/step - loss: 1.3700 - accuracy: 0.6947\n",
      "Epoch 33/50\n",
      "2273/2273 [==============================] - 2s 717us/step - loss: 1.2903 - accuracy: 0.7027\n",
      "Epoch 34/50\n",
      "2273/2273 [==============================] - 1s 637us/step - loss: 1.3743 - accuracy: 0.6936\n",
      "Epoch 35/50\n",
      "2273/2273 [==============================] - 1s 631us/step - loss: 1.2783 - accuracy: 0.6996\n",
      "Epoch 36/50\n",
      "2273/2273 [==============================] - 1s 644us/step - loss: 1.2307 - accuracy: 0.7016\n",
      "Epoch 37/50\n",
      "2273/2273 [==============================] - 2s 718us/step - loss: 1.1861 - accuracy: 0.7030\n",
      "Epoch 38/50\n",
      "2273/2273 [==============================] - 1s 636us/step - loss: 1.1636 - accuracy: 0.7051\n",
      "Epoch 39/50\n",
      "2273/2273 [==============================] - 1s 635us/step - loss: 1.1676 - accuracy: 0.7036\n",
      "Epoch 40/50\n",
      "2273/2273 [==============================] - 1s 655us/step - loss: 1.3297 - accuracy: 0.6940\n",
      "Epoch 41/50\n",
      "2273/2273 [==============================] - 1s 659us/step - loss: 1.0855 - accuracy: 0.7056\n",
      "Epoch 42/50\n",
      "2273/2273 [==============================] - 1s 632us/step - loss: 1.1444 - accuracy: 0.7060\n",
      "Epoch 43/50\n",
      "2273/2273 [==============================] - 1s 654us/step - loss: 1.1450 - accuracy: 0.7028\n",
      "Epoch 44/50\n",
      "2273/2273 [==============================] - 1s 640us/step - loss: 1.1208 - accuracy: 0.7026\n",
      "Epoch 45/50\n",
      "2273/2273 [==============================] - 1s 638us/step - loss: 1.1206 - accuracy: 0.7060\n",
      "Epoch 46/50\n",
      "2273/2273 [==============================] - 2s 673us/step - loss: 1.0902 - accuracy: 0.7074\n",
      "Epoch 47/50\n",
      "2273/2273 [==============================] - 2s 771us/step - loss: 1.1468 - accuracy: 0.7042\n",
      "Epoch 48/50\n",
      "2273/2273 [==============================] - 2s 676us/step - loss: 1.0402 - accuracy: 0.7081\n",
      "Epoch 49/50\n",
      "2273/2273 [==============================] - 2s 677us/step - loss: 1.0621 - accuracy: 0.7070\n",
      "Epoch 50/50\n",
      "2273/2273 [==============================] - 1s 657us/step - loss: 1.0069 - accuracy: 0.7088\n"
     ]
    }
   ],
   "source": [
    "rus = RandomOverSampler(random_state=42)\n",
    "X_res, y_res = rus.fit_resample(X, y)\n",
    "X_train, X_test, y_train, y_test = train_test_split(X_res, y_res, test_size=0.2, random_state=42)\n",
    "history = model.fit(X_train,y_train,batch_size=30,epochs=50, verbose=1)"
   ]
  },
  {
   "cell_type": "code",
   "execution_count": 51,
   "metadata": {},
   "outputs": [
    {
     "data": {
      "image/png": "[encoded data removed]",
      "text/plain": [
       "<Figure size 432x288 with 1 Axes>"
      ]
     },
     "metadata": {
      "needs_background": "light"
     },
     "output_type": "display_data"
    },
    {
     "name": "stdout",
     "output_type": "stream",
     "text": [
      "Final value of the loss :  1.0068696737289429\n",
      "Final value of accuracy : 0.7087776064872742\n"
     ]
    }
   ],
   "source": [
    "loss = history.history['loss']\n",
    "accuracy = history.history['accuracy']\n",
    "\n",
    "plt.plot(history.history['loss'], label='Train Loss')\n",
    "\n",
    "plt.title('Model Loss')\n",
    "plt.ylabel('Loss')\n",
    "plt.xlabel('Epochs')\n",
    "plt.legend(loc='upper right')\n",
    "plt.show();\n",
    "\n",
    "print(\"Final value of the loss : \", loss[-1])\n",
    "print(\"Final value of accuracy :\", accuracy[-1])"
   ]
  },
  {
   "cell_type": "code",
   "execution_count": 111,
   "metadata": {},
   "outputs": [
    {
     "name": "stdout",
     "output_type": "stream",
     "text": [
      "[[6018 2512]\n",
      " [1066 7451]]\n",
      "              precision    recall  f1-score   support\n",
      "\n",
      "         0.0       0.85      0.71      0.77      8530\n",
      "         1.0       0.75      0.87      0.81      8517\n",
      "\n",
      "    accuracy                           0.79     17047\n",
      "   macro avg       0.80      0.79      0.79     17047\n",
      "weighted avg       0.80      0.79      0.79     17047\n",
      "\n"
     ]
    }
   ],
   "source": [
    "clf = RandomForestClassifier(max_depth=5, random_state=42)\n",
    "clf.fit(X_train,y_train)\n",
    "y_pred = clf.predict(X_test)\n",
    "print(confusion_matrix(y_test, y_pred))\n",
    "print(classification_report(y_test, y_pred))"
   ]
  },
  {
   "cell_type": "code",
   "execution_count": null,
   "metadata": {},
   "outputs": [],
   "source": []
  }
 ],
 "metadata": {
  "kernelspec": {
   "display_name": "Python 3",
   "language": "python",
   "name": "python3"
  },
  "language_info": {
   "codemirror_mode": {
    "name": "ipython",
    "version": 3
   },
   "file_extension": ".py",
   "mimetype": "text/x-python",
   "name": "python",
   "nbconvert_exporter": "python",
   "pygments_lexer": "ipython3",
   "version": "3.8.3"
  }
 },
 "nbformat": 4,
 "nbformat_minor": 4
}
