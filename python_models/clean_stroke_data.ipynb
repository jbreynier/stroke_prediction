{
 "cells": [
  {
   "cell_type": "code",
   "execution_count": 1,
   "metadata": {},
   "outputs": [],
   "source": [
    "import pandas as pd\n",
    "from scipy import stats\n",
    "import matplotlib.pyplot as plt"
   ]
  },
  {
   "cell_type": "code",
   "execution_count": 2,
   "metadata": {},
   "outputs": [],
   "source": [
    "df_stroke = pd.read_csv(\"../data/train_strokes.csv\")"
   ]
  },
  {
   "cell_type": "code",
   "execution_count": 3,
   "metadata": {},
   "outputs": [
    {
     "name": "stdout",
     "output_type": "stream",
     "text": [
      "1: \n",
      "0.0\n",
      "2: \n",
      "0.0\n",
      "3: \n",
      "0.0\n",
      "4: \n",
      "0.0\n",
      "5: \n",
      "0.0\n",
      "6: \n",
      "0.0\n",
      "7: \n",
      "0.0\n",
      "8: \n",
      "0.0\n",
      "9: \n",
      "0.0\n",
      "10: \n",
      "0.3194888178913738\n",
      "11: \n",
      "0.30303030303030304\n",
      "12: \n",
      "0.7537688442211055\n",
      "13: \n",
      "0.9546539379474941\n",
      "14: \n",
      "1.3544018058690745\n",
      "15: \n",
      "2.433628318584071\n",
      "16: \n",
      "3.755868544600939\n",
      "17: \n",
      "6.526315789473684\n",
      "18: \n",
      "9.236947791164658\n"
     ]
    }
   ],
   "source": [
    "for age in range(1, 19):\n",
    "    print(f\"{age}: \")\n",
    "    print((len(df_stroke.loc[(df_stroke[\"smoking_status\"] == \"smokes\") & (df_stroke[\"age\"] == age), :]) / len(df_stroke.loc[df_stroke[\"age\"] == age, :])) * 100)"
   ]
  },
  {
   "cell_type": "code",
   "execution_count": 5,
   "metadata": {},
   "outputs": [
    {
     "data": {
      "text/plain": [
       "id                       0\n",
       "gender                   0\n",
       "age                      0\n",
       "hypertension             0\n",
       "heart_disease            0\n",
       "ever_married             0\n",
       "work_type                0\n",
       "Residence_type           0\n",
       "avg_glucose_level        0\n",
       "bmi                   1462\n",
       "smoking_status       13292\n",
       "stroke                   0\n",
       "dtype: int64"
      ]
     },
     "execution_count": 5,
     "metadata": {},
     "output_type": "execute_result"
    }
   ],
   "source": [
    "df_stroke.isnull().sum(axis=0)"
   ]
  },
  {
   "cell_type": "code",
   "execution_count": 23,
   "metadata": {},
   "outputs": [
    {
     "data": {
      "text/plain": [
       "0.24240465416936005"
      ]
     },
     "execution_count": 23,
     "metadata": {},
     "output_type": "execute_result"
    }
   ],
   "source": [
    "(len(df_stroke.loc[(df_stroke[\"smoking_status\"] == \"smokes\") & (df_stroke[\"age\"] < 15), :]) / len(df_stroke.loc[df_stroke[\"age\"] < 15, :])) * 100"
   ]
  },
  {
   "cell_type": "code",
   "execution_count": 3,
   "metadata": {},
   "outputs": [],
   "source": [
    "df_stroke_modified = df_stroke.copy()\n",
    "df_stroke_modified.loc[(df_stroke[\"age\"] < 15) & pd.isna(df_stroke[\"smoking_status\"]), \"smoking_status\"] = \"never smoked\""
   ]
  },
  {
   "cell_type": "code",
   "execution_count": 4,
   "metadata": {},
   "outputs": [
    {
     "data": {
      "text/plain": [
       "id                   0.000000\n",
       "gender               0.000000\n",
       "age                  0.000000\n",
       "hypertension         0.000000\n",
       "heart_disease        0.000000\n",
       "ever_married         0.000000\n",
       "work_type            0.000000\n",
       "Residence_type       0.000000\n",
       "avg_glucose_level    0.000000\n",
       "bmi                  0.033687\n",
       "smoking_status       0.179562\n",
       "stroke               0.000000\n",
       "dtype: float64"
      ]
     },
     "execution_count": 4,
     "metadata": {},
     "output_type": "execute_result"
    }
   ],
   "source": [
    "df_stroke_modified.isnull().sum(axis=0) / len(df_stroke_modified)"
   ]
  },
  {
   "cell_type": "code",
   "execution_count": 9,
   "metadata": {},
   "outputs": [
    {
     "data": {
      "text/plain": [
       "children         5898\n",
       "Private           204\n",
       "Never_worked       43\n",
       "Self-employed      31\n",
       "Govt_job           12\n",
       "Name: work_type, dtype: int64"
      ]
     },
     "execution_count": 9,
     "metadata": {},
     "output_type": "execute_result"
    }
   ],
   "source": [
    "df_stroke.loc[df_stroke[\"age\"] < 15, \"work_type\"].value_counts()"
   ]
  },
  {
   "cell_type": "code",
   "execution_count": 12,
   "metadata": {},
   "outputs": [
    {
     "data": {
      "text/plain": [
       "Private          690\n",
       "children          67\n",
       "Never_worked      58\n",
       "Self-employed     46\n",
       "Govt_job          40\n",
       "Name: work_type, dtype: int64"
      ]
     },
     "execution_count": 12,
     "metadata": {},
     "output_type": "execute_result"
    }
   ],
   "source": [
    "df_stroke.loc[(df_stroke[\"age\"] < 18) & (df_stroke[\"age\"] > 15), \"work_type\"].value_counts()"
   ]
  },
  {
   "cell_type": "code",
   "execution_count": 16,
   "metadata": {},
   "outputs": [
    {
     "name": "stdout",
     "output_type": "stream",
     "text": [
      "0\n",
      "Series([], Name: work_type, dtype: int64)\n",
      "1\n",
      "children    34\n",
      "Name: work_type, dtype: int64\n",
      "2\n",
      "children    479\n",
      "Name: work_type, dtype: int64\n",
      "3\n",
      "children    402\n",
      "Name: work_type, dtype: int64\n",
      "4\n",
      "children    356\n",
      "Name: work_type, dtype: int64\n",
      "5\n",
      "children    533\n",
      "Name: work_type, dtype: int64\n",
      "6\n",
      "children    246\n",
      "Name: work_type, dtype: int64\n",
      "7\n",
      "children         354\n",
      "Self-employed      1\n",
      "Name: work_type, dtype: int64\n",
      "8\n",
      "children    435\n",
      "Private       1\n",
      "Name: work_type, dtype: int64\n",
      "9\n",
      "children    353\n",
      "Name: work_type, dtype: int64\n",
      "10\n",
      "children    313\n",
      "Name: work_type, dtype: int64\n",
      "11\n",
      "children    330\n",
      "Name: work_type, dtype: int64\n",
      "12\n",
      "children    398\n",
      "Name: work_type, dtype: int64\n",
      "13\n",
      "children         317\n",
      "Private           71\n",
      "Never_worked      14\n",
      "Self-employed     14\n",
      "Govt_job           3\n",
      "Name: work_type, dtype: int64\n",
      "14\n",
      "children         257\n",
      "Private          132\n",
      "Never_worked      29\n",
      "Self-employed     16\n",
      "Govt_job           9\n",
      "Name: work_type, dtype: int64\n",
      "15\n",
      "Private          212\n",
      "children         191\n",
      "Self-employed     22\n",
      "Never_worked      18\n",
      "Govt_job           9\n",
      "Name: work_type, dtype: int64\n",
      "16\n",
      "Private          293\n",
      "children          67\n",
      "Never_worked      32\n",
      "Self-employed     18\n",
      "Govt_job          16\n",
      "Name: work_type, dtype: int64\n",
      "17\n",
      "Private          397\n",
      "Self-employed     28\n",
      "Never_worked      26\n",
      "Govt_job          24\n",
      "Name: work_type, dtype: int64\n",
      "18\n",
      "Private          427\n",
      "Govt_job          31\n",
      "Never_worked      20\n",
      "Self-employed     20\n",
      "Name: work_type, dtype: int64\n"
     ]
    }
   ],
   "source": [
    "for age in range(0, 19):\n",
    "    print(age)\n",
    "    print(df_stroke.loc[df_stroke[\"age\"] == age, \"work_type\"].value_counts())"
   ]
  },
  {
   "cell_type": "code",
   "execution_count": 19,
   "metadata": {},
   "outputs": [],
   "source": [
    "df_stroke_modified.loc[(df_stroke_modified[\"age\"] < 19) & (df_stroke_modified[\"work_type\"] == \"Never_worked\"), \"work_type\"] = \"children\""
   ]
  },
  {
   "cell_type": "code",
   "execution_count": 21,
   "metadata": {},
   "outputs": [
    {
     "name": "stdout",
     "output_type": "stream",
     "text": [
      "0\n",
      "Series([], Name: work_type, dtype: int64)\n",
      "1\n",
      "children    34\n",
      "Name: work_type, dtype: int64\n",
      "2\n",
      "children    479\n",
      "Name: work_type, dtype: int64\n",
      "3\n",
      "children    402\n",
      "Name: work_type, dtype: int64\n",
      "4\n",
      "children    356\n",
      "Name: work_type, dtype: int64\n",
      "5\n",
      "children    533\n",
      "Name: work_type, dtype: int64\n",
      "6\n",
      "children    246\n",
      "Name: work_type, dtype: int64\n",
      "7\n",
      "children         354\n",
      "Self-employed      1\n",
      "Name: work_type, dtype: int64\n",
      "8\n",
      "children    435\n",
      "Private       1\n",
      "Name: work_type, dtype: int64\n",
      "9\n",
      "children    353\n",
      "Name: work_type, dtype: int64\n",
      "10\n",
      "children    313\n",
      "Name: work_type, dtype: int64\n",
      "11\n",
      "children    330\n",
      "Name: work_type, dtype: int64\n",
      "12\n",
      "children    398\n",
      "Name: work_type, dtype: int64\n",
      "13\n",
      "children         331\n",
      "Private           71\n",
      "Self-employed     14\n",
      "Govt_job           3\n",
      "Name: work_type, dtype: int64\n",
      "14\n",
      "children         286\n",
      "Private          132\n",
      "Self-employed     16\n",
      "Govt_job           9\n",
      "Name: work_type, dtype: int64\n",
      "15\n",
      "Private          212\n",
      "children         209\n",
      "Self-employed     22\n",
      "Govt_job           9\n",
      "Name: work_type, dtype: int64\n",
      "16\n",
      "Private          293\n",
      "children          99\n",
      "Self-employed     18\n",
      "Govt_job          16\n",
      "Name: work_type, dtype: int64\n",
      "17\n",
      "Private          397\n",
      "Self-employed     28\n",
      "children          26\n",
      "Govt_job          24\n",
      "Name: work_type, dtype: int64\n",
      "18\n",
      "Private          427\n",
      "Govt_job          31\n",
      "children          20\n",
      "Self-employed     20\n",
      "Name: work_type, dtype: int64\n"
     ]
    }
   ],
   "source": [
    "for age in range(0, 19):\n",
    "    print(age)\n",
    "    print(df_stroke_modified.loc[df_stroke_modified[\"age\"] == age, \"work_type\"].value_counts())"
   ]
  },
  {
   "cell_type": "code",
   "execution_count": 32,
   "metadata": {},
   "outputs": [
    {
     "data": {
      "text/html": [
       "<div>\n",
       "<style scoped>\n",
       "    .dataframe tbody tr th:only-of-type {\n",
       "        vertical-align: middle;\n",
       "    }\n",
       "\n",
       "    .dataframe tbody tr th {\n",
       "        vertical-align: top;\n",
       "    }\n",
       "\n",
       "    .dataframe thead th {\n",
       "        text-align: right;\n",
       "    }\n",
       "</style>\n",
       "<table border=\"1\" class=\"dataframe\">\n",
       "  <thead>\n",
       "    <tr style=\"text-align: right;\">\n",
       "      <th></th>\n",
       "      <th>id</th>\n",
       "      <th>gender</th>\n",
       "      <th>age</th>\n",
       "      <th>hypertension</th>\n",
       "      <th>heart_disease</th>\n",
       "      <th>ever_married</th>\n",
       "      <th>work_type</th>\n",
       "      <th>Residence_type</th>\n",
       "      <th>avg_glucose_level</th>\n",
       "      <th>bmi</th>\n",
       "      <th>smoking_status</th>\n",
       "      <th>stroke</th>\n",
       "    </tr>\n",
       "  </thead>\n",
       "  <tbody>\n",
       "    <tr>\n",
       "      <th>2914</th>\n",
       "      <td>56156</td>\n",
       "      <td>Other</td>\n",
       "      <td>26.0</td>\n",
       "      <td>0</td>\n",
       "      <td>0</td>\n",
       "      <td>No</td>\n",
       "      <td>Private</td>\n",
       "      <td>Rural</td>\n",
       "      <td>143.33</td>\n",
       "      <td>22.4</td>\n",
       "      <td>formerly smoked</td>\n",
       "      <td>0</td>\n",
       "    </tr>\n",
       "    <tr>\n",
       "      <th>10768</th>\n",
       "      <td>26188</td>\n",
       "      <td>Other</td>\n",
       "      <td>46.0</td>\n",
       "      <td>0</td>\n",
       "      <td>0</td>\n",
       "      <td>No</td>\n",
       "      <td>Private</td>\n",
       "      <td>Rural</td>\n",
       "      <td>83.28</td>\n",
       "      <td>NaN</td>\n",
       "      <td>never smoked</td>\n",
       "      <td>0</td>\n",
       "    </tr>\n",
       "    <tr>\n",
       "      <th>15620</th>\n",
       "      <td>52984</td>\n",
       "      <td>Other</td>\n",
       "      <td>27.0</td>\n",
       "      <td>0</td>\n",
       "      <td>0</td>\n",
       "      <td>No</td>\n",
       "      <td>Private</td>\n",
       "      <td>Urban</td>\n",
       "      <td>62.45</td>\n",
       "      <td>NaN</td>\n",
       "      <td>smokes</td>\n",
       "      <td>0</td>\n",
       "    </tr>\n",
       "    <tr>\n",
       "      <th>15838</th>\n",
       "      <td>24893</td>\n",
       "      <td>Other</td>\n",
       "      <td>53.0</td>\n",
       "      <td>0</td>\n",
       "      <td>0</td>\n",
       "      <td>Yes</td>\n",
       "      <td>Private</td>\n",
       "      <td>Rural</td>\n",
       "      <td>89.65</td>\n",
       "      <td>NaN</td>\n",
       "      <td>NaN</td>\n",
       "      <td>0</td>\n",
       "    </tr>\n",
       "    <tr>\n",
       "      <th>19748</th>\n",
       "      <td>13471</td>\n",
       "      <td>Other</td>\n",
       "      <td>39.0</td>\n",
       "      <td>0</td>\n",
       "      <td>0</td>\n",
       "      <td>Yes</td>\n",
       "      <td>Govt_job</td>\n",
       "      <td>Urban</td>\n",
       "      <td>95.59</td>\n",
       "      <td>32.0</td>\n",
       "      <td>formerly smoked</td>\n",
       "      <td>0</td>\n",
       "    </tr>\n",
       "    <tr>\n",
       "      <th>21041</th>\n",
       "      <td>31015</td>\n",
       "      <td>Other</td>\n",
       "      <td>19.0</td>\n",
       "      <td>0</td>\n",
       "      <td>0</td>\n",
       "      <td>No</td>\n",
       "      <td>Private</td>\n",
       "      <td>Rural</td>\n",
       "      <td>75.76</td>\n",
       "      <td>32.2</td>\n",
       "      <td>formerly smoked</td>\n",
       "      <td>0</td>\n",
       "    </tr>\n",
       "    <tr>\n",
       "      <th>21192</th>\n",
       "      <td>27043</td>\n",
       "      <td>Other</td>\n",
       "      <td>49.0</td>\n",
       "      <td>0</td>\n",
       "      <td>0</td>\n",
       "      <td>Yes</td>\n",
       "      <td>Private</td>\n",
       "      <td>Urban</td>\n",
       "      <td>94.88</td>\n",
       "      <td>37.2</td>\n",
       "      <td>never smoked</td>\n",
       "      <td>0</td>\n",
       "    </tr>\n",
       "    <tr>\n",
       "      <th>24252</th>\n",
       "      <td>51111</td>\n",
       "      <td>Other</td>\n",
       "      <td>51.0</td>\n",
       "      <td>0</td>\n",
       "      <td>0</td>\n",
       "      <td>Yes</td>\n",
       "      <td>Private</td>\n",
       "      <td>Rural</td>\n",
       "      <td>91.75</td>\n",
       "      <td>32.2</td>\n",
       "      <td>formerly smoked</td>\n",
       "      <td>0</td>\n",
       "    </tr>\n",
       "    <tr>\n",
       "      <th>26199</th>\n",
       "      <td>42452</td>\n",
       "      <td>Other</td>\n",
       "      <td>10.0</td>\n",
       "      <td>0</td>\n",
       "      <td>0</td>\n",
       "      <td>No</td>\n",
       "      <td>children</td>\n",
       "      <td>Rural</td>\n",
       "      <td>72.05</td>\n",
       "      <td>21.2</td>\n",
       "      <td>formerly smoked</td>\n",
       "      <td>0</td>\n",
       "    </tr>\n",
       "    <tr>\n",
       "      <th>26831</th>\n",
       "      <td>49812</td>\n",
       "      <td>Other</td>\n",
       "      <td>53.0</td>\n",
       "      <td>0</td>\n",
       "      <td>0</td>\n",
       "      <td>Yes</td>\n",
       "      <td>Govt_job</td>\n",
       "      <td>Urban</td>\n",
       "      <td>65.29</td>\n",
       "      <td>NaN</td>\n",
       "      <td>NaN</td>\n",
       "      <td>0</td>\n",
       "    </tr>\n",
       "    <tr>\n",
       "      <th>40768</th>\n",
       "      <td>14986</td>\n",
       "      <td>Other</td>\n",
       "      <td>11.0</td>\n",
       "      <td>0</td>\n",
       "      <td>0</td>\n",
       "      <td>No</td>\n",
       "      <td>children</td>\n",
       "      <td>Urban</td>\n",
       "      <td>101.30</td>\n",
       "      <td>18.1</td>\n",
       "      <td>formerly smoked</td>\n",
       "      <td>0</td>\n",
       "    </tr>\n",
       "  </tbody>\n",
       "</table>\n",
       "</div>"
      ],
      "text/plain": [
       "          id gender   age  hypertension  heart_disease ever_married work_type  \\\n",
       "2914   56156  Other  26.0             0              0           No   Private   \n",
       "10768  26188  Other  46.0             0              0           No   Private   \n",
       "15620  52984  Other  27.0             0              0           No   Private   \n",
       "15838  24893  Other  53.0             0              0          Yes   Private   \n",
       "19748  13471  Other  39.0             0              0          Yes  Govt_job   \n",
       "21041  31015  Other  19.0             0              0           No   Private   \n",
       "21192  27043  Other  49.0             0              0          Yes   Private   \n",
       "24252  51111  Other  51.0             0              0          Yes   Private   \n",
       "26199  42452  Other  10.0             0              0           No  children   \n",
       "26831  49812  Other  53.0             0              0          Yes  Govt_job   \n",
       "40768  14986  Other  11.0             0              0           No  children   \n",
       "\n",
       "      Residence_type  avg_glucose_level   bmi   smoking_status  stroke  \n",
       "2914           Rural             143.33  22.4  formerly smoked       0  \n",
       "10768          Rural              83.28   NaN     never smoked       0  \n",
       "15620          Urban              62.45   NaN           smokes       0  \n",
       "15838          Rural              89.65   NaN              NaN       0  \n",
       "19748          Urban              95.59  32.0  formerly smoked       0  \n",
       "21041          Rural              75.76  32.2  formerly smoked       0  \n",
       "21192          Urban              94.88  37.2     never smoked       0  \n",
       "24252          Rural              91.75  32.2  formerly smoked       0  \n",
       "26199          Rural              72.05  21.2  formerly smoked       0  \n",
       "26831          Urban              65.29   NaN              NaN       0  \n",
       "40768          Urban             101.30  18.1  formerly smoked       0  "
      ]
     },
     "execution_count": 32,
     "metadata": {},
     "output_type": "execute_result"
    }
   ],
   "source": [
    "df_stroke.loc[df_stroke[\"gender\"] == \"Other\", :]"
   ]
  },
  {
   "cell_type": "code",
   "execution_count": 29,
   "metadata": {},
   "outputs": [],
   "source": [
    "df_stroke_modified = df_stroke_modified.loc[df_stroke_modified[\"gender\"] != \"Other\", :]"
   ]
  },
  {
   "cell_type": "code",
   "execution_count": 35,
   "metadata": {},
   "outputs": [
    {
     "data": {
      "text/plain": [
       "Female    25665\n",
       "Male      17724\n",
       "Name: gender, dtype: int64"
      ]
     },
     "execution_count": 35,
     "metadata": {},
     "output_type": "execute_result"
    }
   ],
   "source": [
    "df_stroke_modified[\"gender\"].value_counts()"
   ]
  },
  {
   "cell_type": "code",
   "execution_count": 36,
   "metadata": {},
   "outputs": [],
   "source": [
    "df_stroke_modified.to_csv(\"stroke_data_cleanedJB.csv\", index=False)"
   ]
  },
  {
   "cell_type": "code",
   "execution_count": 34,
   "metadata": {},
   "outputs": [
    {
     "data": {
      "text/html": [
       "<div>\n",
       "<style scoped>\n",
       "    .dataframe tbody tr th:only-of-type {\n",
       "        vertical-align: middle;\n",
       "    }\n",
       "\n",
       "    .dataframe tbody tr th {\n",
       "        vertical-align: top;\n",
       "    }\n",
       "\n",
       "    .dataframe thead th {\n",
       "        text-align: right;\n",
       "    }\n",
       "</style>\n",
       "<table border=\"1\" class=\"dataframe\">\n",
       "  <thead>\n",
       "    <tr style=\"text-align: right;\">\n",
       "      <th></th>\n",
       "      <th>id</th>\n",
       "      <th>gender</th>\n",
       "      <th>age</th>\n",
       "      <th>hypertension</th>\n",
       "      <th>heart_disease</th>\n",
       "      <th>ever_married</th>\n",
       "      <th>work_type</th>\n",
       "      <th>Residence_type</th>\n",
       "      <th>avg_glucose_level</th>\n",
       "      <th>bmi</th>\n",
       "      <th>smoking_status</th>\n",
       "      <th>stroke</th>\n",
       "    </tr>\n",
       "  </thead>\n",
       "  <tbody>\n",
       "  </tbody>\n",
       "</table>\n",
       "</div>"
      ],
      "text/plain": [
       "Empty DataFrame\n",
       "Columns: [id, gender, age, hypertension, heart_disease, ever_married, work_type, Residence_type, avg_glucose_level, bmi, smoking_status, stroke]\n",
       "Index: []"
      ]
     },
     "execution_count": 34,
     "metadata": {},
     "output_type": "execute_result"
    }
   ],
   "source": [
    "df_stroke[df_stroke[\"id\"].duplicated()]"
   ]
  }
 ],
 "metadata": {
  "interpreter": {
   "hash": "8c4baf9c42bd83743f95a61da9935e95a0ab6bfe06b39a595c08c4267da5d7e2"
  },
  "kernelspec": {
   "display_name": "Python 3.9.9 ('ml4h_env')",
   "language": "python",
   "name": "python3"
  },
  "language_info": {
   "codemirror_mode": {
    "name": "ipython",
    "version": 3
   },
   "file_extension": ".py",
   "mimetype": "text/x-python",
   "name": "python",
   "nbconvert_exporter": "python",
   "pygments_lexer": "ipython3",
   "version": "3.9.9"
  },
  "orig_nbformat": 4
 },
 "nbformat": 4,
 "nbformat_minor": 2
}
